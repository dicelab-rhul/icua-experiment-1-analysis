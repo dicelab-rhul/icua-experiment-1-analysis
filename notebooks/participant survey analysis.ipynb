{
 "cells": [
  {
   "cell_type": "markdown",
   "id": "20bcc3fe",
   "metadata": {},
   "source": [
    "### Participant Survey Analysis\n",
    "This notebook contains code for the participant survey analysis."
   ]
  },
  {
   "cell_type": "code",
   "execution_count": 41,
   "id": "ba535467",
   "metadata": {
    "scrolled": false
   },
   "outputs": [
    {
     "name": "stdout",
     "output_type": "stream",
     "text": [
      "[('icuA', 'icuaA'), ('icuA', 'icuB'), ('icuA', 'icuaB'), ('icuaA', 'icuB'), ('icuaA', 'icuaB'), ('icuB', 'icuaB')]\n",
      "                trials  Easier  Harder  Unchanged\n",
      "0   A $\\rightarrow$ Aa       1       5          9\n",
      "1    A $\\rightarrow$ B       0      14          1\n",
      "2   A $\\rightarrow$ Ba       0      14          1\n",
      "3   Aa $\\rightarrow$ B       3      12          0\n",
      "4  Aa $\\rightarrow$ Ba       1      13          1\n",
      "5   B $\\rightarrow$ Ba       2       7          6\n",
      "\\begin{tabular}{llrrr}\n",
      " & trials & Easier & Harder & Unchanged \\\\\n",
      "0 & A $\\rightarrow$ Aa & 1 & 5 & 9 \\\\\n",
      "1 & A $\\rightarrow$ B & 0 & 14 & 1 \\\\\n",
      "2 & A $\\rightarrow$ Ba & 0 & 14 & 1 \\\\\n",
      "3 & Aa $\\rightarrow$ B & 3 & 12 & 0 \\\\\n",
      "4 & Aa $\\rightarrow$ Ba & 1 & 13 & 1 \\\\\n",
      "5 & B $\\rightarrow$ Ba & 2 & 7 & 6 \\\\\n",
      "\\end{tabular}\n",
      "\n"
     ]
    }
   ],
   "source": [
    "# check participant perception of agents, did they feel that they did better or worse with guidance?\n",
    "import icua_analysis as ia\n",
    "import pandas as pd\n",
    "import numpy as np\n",
    "import itertools\n",
    "\n",
    "# get demographics data (including self-reported difficulty)\n",
    "df_demo = ia.load_demographics()\n",
    "df_demo = df_demo[df_demo[\"participant\"].isin(ia.get_has_eyetracking())]\n",
    "\n",
    "df_demo = ia.melt_demographics(df_demo)\n",
    "\n",
    "# replace difficulty with numeric values so we can compute correlations\n",
    "ests = ['veasy', 'easy', 'moderate', 'hard', 'vhard']\n",
    "ests = {ests[i]:i for i in range(len(ests))}\n",
    "df_demo = df_demo.replace(ests) \n",
    "\n",
    "dfs = df_demo.groupby('trial')[['participant', 'estimated_difficulty']]\n",
    "dfs = {group:data.sort_values('participant').reset_index(drop=True).to_numpy()[:,1] for group, data in dfs}\n",
    "\n",
    "result = pd.DataFrame(columns=['trials', 'Easier', 'Harder', 'Unchanged'])\n",
    "trials = list(itertools.combinations(['icuA', 'icuaA', 'icuB', 'icuaB'], 2))\n",
    "\n",
    "for t1, t2 in trials:\n",
    "    d = dfs[t1] - dfs[t2]\n",
    "    result.loc[len(result)] = [t1[3:][::-1] + \" $\\\\rightarrow$ \" + t2[3:][::-1], (d > 0).sum(), (d < 0).sum(), (d == 0).sum()]\n",
    "\n",
    "print(result.style.to_latex())\n"
   ]
  },
  {
   "cell_type": "code",
   "execution_count": 26,
   "id": "b9f9610e",
   "metadata": {},
   "outputs": [
    {
     "name": "stdout",
     "output_type": "stream",
     "text": [
      "estimated_difficulty  veasy  easy  moderate  hard  vhard\n",
      "trial                                                   \n",
      "icuA                      6     8         1     0      0\n",
      "icuaA                     4     7         3     1      0\n",
      "icuB                      0     4         8     3      0\n",
      "icuaB                     0     1         8     6      0\n",
      "\\begin{tabular}{lrrrrr}\n",
      "estimated_difficulty & veasy & easy & moderate & hard & vhard \\\\\n",
      "trial &  &  &  &  &  \\\\\n",
      "icuA & 6 & 8 & 1 & 0 & 0 \\\\\n",
      "icuaA & 4 & 7 & 3 & 1 & 0 \\\\\n",
      "icuB & 0 & 4 & 8 & 3 & 0 \\\\\n",
      "icuaB & 0 & 1 & 8 & 6 & 0 \\\\\n",
      "\\end{tabular}\n",
      "\n"
     ]
    }
   ],
   "source": [
    "# check participant perception difficulty\n",
    "import icua_analysis as ia\n",
    "import pandas as pd\n",
    "import numpy as np\n",
    "\n",
    "df_demo = ia.load_demographics()\n",
    "df_demo = df_demo[df_demo[\"participant\"].isin(ia.get_has_eyetracking())]\n",
    "df_demo = ia.melt_demographics(df_demo)\n",
    "counts = df_demo.groupby(['trial', 'estimated_difficulty']).size().reset_index(name='Count')\n",
    "\n",
    "pivot_table = counts.pivot_table(index='trial', columns='estimated_difficulty', values='Count', fill_value=0)\n",
    "pivot_table['vhard'] = 0\n",
    "cols = ['veasy', 'easy', 'moderate', 'hard', 'vhard']\n",
    "rows = ['icuA', 'icuaA', 'icuB', 'icuaB']\n",
    "\n",
    "pivot_table = pivot_table[cols].reindex(rows)\n",
    "print(pivot_table)\n",
    "\n",
    "latex_str = pivot_table.style.to_latex()\n",
    "print(latex_str)"
   ]
  },
  {
   "cell_type": "code",
   "execution_count": 33,
   "id": "7a7667ec",
   "metadata": {
    "scrolled": false
   },
   "outputs": [
    {
     "name": "stdout",
     "output_type": "stream",
     "text": [
      "Index(['participant', 'trial', 'failure_proportion',\n",
      "       'task_failure_length_mean', 'failure_length_mean',\n",
      "       'task_failure_length_sum', 'failure_length_sum', 'task_failure_count',\n",
      "       'failure_count'],\n",
      "      dtype='object')\n"
     ]
    },
    {
     "data": {
      "image/png": "[encoded data removed]",
      "text/plain": [
       "<Figure size 500x100 with 1 Axes>"
      ]
     },
     "metadata": {},
     "output_type": "display_data"
    },
    {
     "data": {
      "image/png": "[encoded data removed]",
      "text/plain": [
       "<Figure size 500x100 with 1 Axes>"
      ]
     },
     "metadata": {},
     "output_type": "display_data"
    },
    {
     "data": {
      "image/png": "[encoded data removed]",
      "text/plain": [
       "<Figure size 500x100 with 1 Axes>"
      ]
     },
     "metadata": {},
     "output_type": "display_data"
    }
   ],
   "source": [
    "# plot correlation between self-reported performance and actual performance (according to different measures)\n",
    "\n",
    "import icua_analysis as ia\n",
    "import pandas as pd\n",
    "import numpy as np\n",
    "import seaborn as sns\n",
    "import matplotlib.pyplot as plt\n",
    "from functools import reduce\n",
    "\n",
    "# get demographics data (including self-reported difficulty)\n",
    "df_demo = ia.load_demographics()\n",
    "df_demo = ia.melt_demographics(df_demo)\n",
    "# replace difficulty with numeric values so we can compute correlations\n",
    "ests = ['veasy', 'easy', 'moderate', 'hard', 'vhard']\n",
    "ests = {ests[i]:i for i in range(len(ests))}\n",
    "df_demo = df_demo.replace(ests) \n",
    "\n",
    "# compute scores\n",
    "df_score = ia.default_performance()\n",
    "df = pd.merge(df_score, df_demo, on=['participant', 'trial'])\n",
    "\n",
    "print(df_score.columns)\n",
    "#print(df.columns)\n",
    "metrics = [m for m in df_score.columns[3:] if not 'task' in m]\n",
    "\n",
    "# use these performance metrics\n",
    "#metrics = ['failure_proportion', 'failure_length_mean', 'failure_count', 'task_failure_length_mean', 'task_failure_count']\n",
    "\n",
    "def get_corr(df, metric):\n",
    "    corr = df.groupby('participant')[[metric, 'estimated_difficulty']].corr().reset_index().rename(columns={'estimated_difficulty':'correlation'}).loc[::2][['participant', 'correlation']]\n",
    "    #corr = corr.rename(columns={'correlation': metric.replace(\"_\", \" \").capitalize()})  # Rename the correlation column to the metric name\n",
    "    return corr\n",
    "\n",
    "# import pandas as pd\n",
    "# import seaborn as sns\n",
    "# import matplotlib.pyplot as plt\n",
    "\n",
    "# Assuming df is your main DataFrame and get_corr is a function that returns a correlation DataFrame\n",
    "\n",
    "# plot bar charts\n",
    "for metric in metrics:\n",
    "    corr = get_corr(df, metric)\n",
    "    \n",
    "    fig = plt.figure(figsize=(5,1))\n",
    "    ax = sns.barplot(x='participant', y='correlation', data=corr, label=\"within-task\", color=\"#e6194B\",edgecolor=\"white\", alpha = 1, width=0.9)\n",
    "    task_metric = \"task_\" + metric\n",
    "    if task_metric in df.columns:\n",
    "        corr_task = get_corr(df, \"task_\" + metric)\n",
    "        ax = sns.barplot(x='participant', y='correlation', label=\"task\", data=corr_task, color=\"white\", edgecolor=\"#e6194B\", alpha=0.5, width=0.9)\n",
    "    #ax.set_title(f\"{title} correlation of estimated and actual performance\")\n",
    "    metric = metric.replace(\"sum\", \"total\")\n",
    "    ax.set_title(metric.replace(\"_\", \" \").capitalize())\n",
    "    ax.set_xlabel(None)\n",
    "    #plt.legend(bbox_to_anchor=(0.5, -0.3), loc='upper center', ncol=2)\n",
    "    plt.savefig(f\"../result/participant_survey/estimated_actual_correlation_{metric}_nolegend.png\", bbox_inches='tight', dpi=300)\n",
    "    plt.show()"
   ]
  }
 ],
 "metadata": {
  "kernelspec": {
   "display_name": "icua",
   "language": "python",
   "name": "icua"
  },
  "language_info": {
   "codemirror_mode": {
    "name": "ipython",
    "version": 3
   },
   "file_extension": ".py",
   "mimetype": "text/x-python",
   "name": "python",
   "nbconvert_exporter": "python",
   "pygments_lexer": "ipython3",
   "version": "3.10.11"
  }
 },
 "nbformat": 4,
 "nbformat_minor": 5
}
