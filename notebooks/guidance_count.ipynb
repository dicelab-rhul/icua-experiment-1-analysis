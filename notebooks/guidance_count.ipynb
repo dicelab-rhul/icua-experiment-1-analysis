{
 "cells": [
  {
   "cell_type": "code",
   "execution_count": 23,
   "id": "6cf69a56",
   "metadata": {
    "scrolled": false
   },
   "outputs": [
    {
     "name": "stdout",
     "output_type": "stream",
     "text": [
      "icuaA P01\n",
      "icuaA P02\n",
      "icuaA P04\n",
      "icuaA P05\n",
      "icuaA P06\n",
      "icuaA P07\n",
      "icuaA P08\n",
      "icuaA P09\n",
      "icuaA P10\n",
      "icuaA P16\n",
      "icuaA P17\n",
      "icuaA P18\n",
      "icuaA P23\n",
      "icuaA P24\n",
      "icuaA P25\n",
      "icuaB P01\n",
      "icuaB P02\n",
      "icuaB P04\n",
      "icuaB P05\n",
      "icuaB P06\n",
      "icuaB P07\n",
      "icuaB P08\n",
      "icuaB P09\n",
      "icuaB P10\n",
      "icuaB P16\n",
      "icuaB P17\n",
      "icuaB P18\n",
      "icuaB P23\n",
      "icuaB P24\n",
      "icuaB P25\n",
      "   participant  trial task  guidance_cumulative  guidance_count\n",
      "0          P01  icuaA    F             0.000000               0\n",
      "1          P01  icuaA    S             4.751705               2\n",
      "2          P01  icuaA    T             0.000000               0\n",
      "3          P02  icuaA    F            49.641031              14\n",
      "4          P02  icuaA    S            28.081480               7\n",
      "..         ...    ...  ...                  ...             ...\n",
      "85         P24  icuaB    S             3.524465               6\n",
      "86         P24  icuaB    T             0.000000               0\n",
      "87         P25  icuaB    F            54.439554              11\n",
      "88         P25  icuaB    S            43.627584              13\n",
      "89         P25  icuaB    T             0.000000               0\n",
      "\n",
      "[90 rows x 5 columns]\n"
     ]
    }
   ],
   "source": [
    "import icua_analysis as ia\n",
    "import pandas as pd\n",
    "import matplotlib.pyplot as plt\n",
    "\n",
    "# NOTE: it is clear from plots of the number of eyetracking events that:\n",
    "# P07 Ba and P18 Aa \n",
    "# are not valid for further analysis as guidance will have been affected by an eyetracking failure (or they looked away.\n",
    "\n",
    "result = pd.DataFrame(columns=['participant', 'trial', 'task', 'guidance_cumulative', 'guidance_count'])\n",
    "\n",
    "for trial, par_data in ia.load_tabularised().has_eyetracking().has_guidance().groupby_trial():\n",
    "    for par, data in par_data.items():\n",
    "        print(trial, par)\n",
    "        df = data.get('highlight_data', pd.DataFrame(columns=[\"timestamp\", \"value\", \"task\"])) # get guidance data (it is not always present, this means no guidance was given)\n",
    "        df['timestamp'] -= data['start_time']\n",
    "        \n",
    "        #fig = plt.figure(figsize=(20,1))\n",
    "        #plt.gca().set_xlim(0, data['finish_time'] - data['start_time'])\n",
    "        \n",
    "        for task in ia.TASKS:\n",
    "            tdf = df[df['task'] == task]\n",
    "            tintervals = ia.compute_intervals(tdf['value'].to_numpy(), tdf['timestamp'].to_numpy(), 0, data['finish_time'] - data['start_time']).intervals\n",
    "            \n",
    "            result.loc[len(result)] = [par, trial, task, (tintervals[:,1] - tintervals[:,0]).sum(), len(tintervals)]\n",
    "\n",
    "            #ia.plot_intervals(tintervals, color=ia.get_task_properties(task)['color'])\n",
    "        #plt.show()\n",
    "        \n",
    "\n",
    "print(result)\n",
    "        \n",
    "        \n",
    "        \n",
    "        \n",
    "        \n",
    "        "
   ]
  },
  {
   "cell_type": "code",
   "execution_count": null,
   "id": "a3e2d99b",
   "metadata": {},
   "outputs": [],
   "source": []
  }
 ],
 "metadata": {
  "kernelspec": {
   "display_name": "icua",
   "language": "python",
   "name": "icua"
  },
  "language_info": {
   "codemirror_mode": {
    "name": "ipython",
    "version": 3
   },
   "file_extension": ".py",
   "mimetype": "text/x-python",
   "name": "python",
   "nbconvert_exporter": "python",
   "pygments_lexer": "ipython3",
   "version": "3.10.11"
  }
 },
 "nbformat": 4,
 "nbformat_minor": 5
}
